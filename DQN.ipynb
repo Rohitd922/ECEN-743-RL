{
  "nbformat": 4,
  "nbformat_minor": 0,
  "metadata": {
    "colab": {
      "provenance": [],
      "authorship_tag": "ABX9TyMs8+hiTMQBICax0vt9htSa",
      "include_colab_link": true
    },
    "kernelspec": {
      "name": "python3",
      "display_name": "Python 3"
    },
    "language_info": {
      "name": "python"
    }
  },
  "cells": [
    {
      "cell_type": "markdown",
      "metadata": {
        "id": "view-in-github",
        "colab_type": "text"
      },
      "source": [
        "<a href=\"https://colab.research.google.com/github/Rohitd922/ECEN-743-RL/blob/main/DQN.ipynb\" target=\"_parent\"><img src=\"https://colab.research.google.com/assets/colab-badge.svg\" alt=\"Open In Colab\"/></a>"
      ]
    },
    {
      "cell_type": "code",
      "execution_count": 2,
      "metadata": {
        "id": "lx6vjwxbaR85"
      },
      "outputs": [],
      "source": [
        "import numpy as np\n",
        "import matplotlib.pyplot as plt\n",
        "import pandas as pd\n",
        "import gymnasium as gym\n",
        "\n",
        "import torch.optim as optim\n",
        "from collections import deque\n",
        "import random\n",
        "import torch\n",
        "import torch.nn as nn"
      ]
    },
    {
      "cell_type": "code",
      "source": [
        "env = gym.make(\"CartPole-v1\")"
      ],
      "metadata": {
        "id": "fvi9GHxAahMd"
      },
      "execution_count": 3,
      "outputs": []
    },
    {
      "cell_type": "code",
      "source": [
        "state_size = env.observation_space.shape[0]\n",
        "n_actions = env.action_space.n"
      ],
      "metadata": {
        "id": "fpCqjTbSawDR"
      },
      "execution_count": 4,
      "outputs": []
    },
    {
      "cell_type": "code",
      "source": [
        "env.reset()[0]"
      ],
      "metadata": {
        "colab": {
          "base_uri": "https://localhost:8080/"
        },
        "id": "4hP6V45haxbP",
        "outputId": "1411f9ba-91d1-4deb-87d8-07a5abb72ad4"
      },
      "execution_count": 5,
      "outputs": [
        {
          "output_type": "execute_result",
          "data": {
            "text/plain": [
              "array([-0.01567289,  0.00228103, -0.00392526, -0.0289703 ], dtype=float32)"
            ]
          },
          "metadata": {},
          "execution_count": 5
        }
      ]
    },
    {
      "cell_type": "code",
      "source": [
        "### define a q net that takes in value of the state and give qvalues for each actions\n",
        "\n",
        "class Q_net(nn.Module):\n",
        "  def __init__(self, state_size, actions):\n",
        "    super().__init__()\n",
        "\n",
        "    self.seq = nn.Sequential(\n",
        "        nn.Linear(state_size, 64),\n",
        "        nn.ReLU(),\n",
        "        nn.Linear(64 , 64),\n",
        "        nn.ReLU(),\n",
        "        nn.Linear(64, actions)\n",
        "    )\n",
        "\n",
        "  def forward(self, state):\n",
        "    return self.seq(state)\n"
      ],
      "metadata": {
        "id": "DwKaVNY3bFEk"
      },
      "execution_count": 6,
      "outputs": []
    },
    {
      "cell_type": "code",
      "source": [
        "class replay_buffer():\n",
        "  def __init__(self, maxlen):\n",
        "\n",
        "    self.buffer = deque(maxlen=maxlen)    #### this is like a list of list where older experiences are forgotten\n",
        "\n",
        "  def add(self, experience):\n",
        "    self.buffer.append(experience)        #### add a new list to the deque\n",
        "\n",
        "  def sample(self, batch_size):\n",
        "    return random.sample(self.buffer, len(self.buffer))\n",
        "  def __len__(self):\n",
        "    return len(self.buffer)"
      ],
      "metadata": {
        "id": "bgOMQvcVfuL7"
      },
      "execution_count": 7,
      "outputs": []
    },
    {
      "cell_type": "code",
      "source": [
        "### arguments for the reinforcement learning\n",
        "max_steps = 100\n",
        "num_episodes = 100\n",
        "alpha = 0.99\n",
        "learning_rate = 10e-3\n",
        "buffer_size = 10000\n",
        "\n",
        "batch_size = 256\n",
        "target_update_freq = 20\n",
        "\n",
        "epsilon = 1.0\n",
        "epsilon_min = 0.01\n",
        "epsilon_decay = 0.9"
      ],
      "metadata": {
        "id": "QAw_BEaYvPWj"
      },
      "execution_count": 43,
      "outputs": []
    },
    {
      "cell_type": "code",
      "source": [
        "### initialize the network\n",
        "q_net = Q_net(state_size, n_actions)\n",
        "q_target = Q_net(state_size, n_actions)\n",
        "q_target.load_state_dict(q_net.state_dict())\n",
        "q_target.eval()\n",
        "buffer = replay_buffer(buffer_size)"
      ],
      "metadata": {
        "id": "rM3fnkbAwM3g"
      },
      "execution_count": 44,
      "outputs": []
    },
    {
      "cell_type": "code",
      "source": [
        "optimizer = optim.Adam(q_net.parameters(), lr=learning_rate)\n",
        "criteria = nn.MSELoss()"
      ],
      "metadata": {
        "id": "DCYa0PXqz1Y1"
      },
      "execution_count": 45,
      "outputs": []
    },
    {
      "cell_type": "code",
      "source": [
        "episode_rewards = []\n",
        "for i in range(num_episodes):\n",
        "  state = env.reset()[0]\n",
        "  total_reward = 0\n",
        "\n",
        "  for j in range(max_steps):\n",
        "\n",
        "    if random.random() < epsilon:\n",
        "      action = env.action_space.sample()\n",
        "    else:\n",
        "      with torch.no_grad():\n",
        "        state_tensor = torch.FloatTensor(state).unsqueeze(0)\n",
        "        action = torch.argmax(q_net(state_tensor)).item()\n",
        "\n",
        "    next_state, reward, done, trunc, _ = env.step(action)\n",
        "\n",
        "    total_reward += reward\n",
        "\n",
        "    buffer.add((state, action, reward, next_state, done))\n",
        "\n",
        "    state = next_state\n",
        "\n",
        "    if len(buffer) >= batch_size:\n",
        "      batch = buffer.sample(batch_size)\n",
        "\n",
        "      states, actions, rewards, next_states, dones = zip(*batch)\n",
        "      states = torch.FloatTensor(np.array(states))\n",
        "      actions = torch.LongTensor(np.array(actions)).unsqueeze(1)\n",
        "      rewards = torch.FloatTensor(np.array(rewards)).unsqueeze(1)\n",
        "      next_states = torch.FloatTensor(np.array(next_states))\n",
        "      dones = torch.FloatTensor(np.array(dones)).unsqueeze(1)\n",
        "\n",
        "      ### q_values has the diff to update the weights and it has to be same as target\n",
        "      q_values = q_net(states).gather(1, actions)\n",
        "\n",
        "\n",
        "      with torch.no_grad():\n",
        "        next_q_values = q_target(next_states).max(1)[0].unsqueeze(1)\n",
        "        target_q_values = rewards + (1 - dones) * alpha * next_q_values\n",
        "\n",
        "      loss = criteria(q_values, target_q_values)\n",
        "\n",
        "      optimizer.zero_grad()\n",
        "      loss.backward()\n",
        "      optimizer.step()\n",
        "\n",
        "\n",
        "    if j % target_update_freq == 0:\n",
        "      q_target.load_state_dict(q_net.state_dict())\n",
        "\n",
        "    if done or trunc:\n",
        "      #print(f\"Episode {i}, Total Reward {total_reward}\")\n",
        "      break\n",
        "  episode_rewards.append(total_reward)\n",
        "\n",
        "  epsilon = max(epsilon * epsilon_decay, epsilon_min)\n",
        "  if i % 10 == 0:\n",
        "    print(f\"episode: {i}, total_rewards: {total_reward}, epsilon: {epsilon}\")\n"
      ],
      "metadata": {
        "colab": {
          "base_uri": "https://localhost:8080/"
        },
        "id": "jBb21y0Pwhm1",
        "outputId": "0067395b-de3c-4a48-e95c-699e20928b9d"
      },
      "execution_count": 46,
      "outputs": [
        {
          "output_type": "stream",
          "name": "stdout",
          "text": [
            "episode: 0, total_rewards: 11.0, epsilon: 0.9\n",
            "episode: 10, total_rewards: 14.0, epsilon: 0.31381059609000017\n",
            "episode: 20, total_rewards: 63.0, epsilon: 0.10941898913151243\n",
            "episode: 30, total_rewards: 100.0, epsilon: 0.03815204244769462\n",
            "episode: 40, total_rewards: 100.0, epsilon: 0.013302794647291147\n",
            "episode: 50, total_rewards: 100.0, epsilon: 0.01\n",
            "episode: 60, total_rewards: 100.0, epsilon: 0.01\n",
            "episode: 70, total_rewards: 100.0, epsilon: 0.01\n",
            "episode: 80, total_rewards: 100.0, epsilon: 0.01\n",
            "episode: 90, total_rewards: 100.0, epsilon: 0.01\n"
          ]
        }
      ]
    },
    {
      "cell_type": "code",
      "source": [
        "### plot the training error\n",
        "plt.plot(episode_rewards)\n",
        "plt.xlabel(\"Episode\")\n",
        "plt.ylabel(\"Total Reward\")\n",
        "plt.show()"
      ],
      "metadata": {
        "colab": {
          "base_uri": "https://localhost:8080/",
          "height": 449
        },
        "id": "dfeFJbOLAj9_",
        "outputId": "fcfdedab-f51a-4289-c8d2-1c0c5aff4826"
      },
      "execution_count": 47,
      "outputs": [
        {
          "output_type": "display_data",
          "data": {
            "text/plain": [
              "<Figure size 640x480 with 1 Axes>"
            ],
            "image/png": "[encoded data removed]"
          },
          "metadata": {}
        }
      ]
    },
    {
      "cell_type": "code",
      "source": [],
      "metadata": {
        "id": "CW1JeggOKgiF"
      },
      "execution_count": null,
      "outputs": []
    }
  ]
}